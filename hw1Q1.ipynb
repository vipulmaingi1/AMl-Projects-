{
 "cells": [
  {
   "cell_type": "code",
   "execution_count": 1,
   "id": "5b846d14",
   "metadata": {},
   "outputs": [],
   "source": [
    "import numpy as np\n",
    "import os\n",
    "import glob\n",
    "from sklearn import utils\n",
    "from sklearn.utils import shuffle\n",
    "import matplotlib.pyplot as plt\n",
    "#from fast_ml.model_development import train_valid_test_split\n",
    "import tensorflow as tf\n",
    "from tensorflow.keras.utils import to_categorical\n",
    "from sklearn.preprocessing import StandardScaler\n",
    "from tensorflow import keras\n",
    "from tensorflow.keras import layers\n",
    "from tensorflow.keras.layers import BatchNormalization\n",
    "from tensorflow.keras.layers import Dropout\n",
    "from sklearn.metrics import confusion_matrix, accuracy_score\n",
    "import pandas as pd\n",
    "import seaborn as sns\n",
    "import tensorflow as tf\n",
    "from tensorflow import  keras \n",
    "\n",
    "from keras.layers import Input, Flatten, Dense, BatchNormalization, Dropout\n",
    "from keras.models import Model\n"
   ]
  },
  {
   "cell_type": "code",
   "execution_count": 2,
   "id": "e0c5ee8b",
   "metadata": {},
   "outputs": [],
   "source": [
    "path = 'C:/Users/Vipul Maingi/Downloads/neural/'"
   ]
  },
  {
   "cell_type": "code",
   "execution_count": 3,
   "id": "7417b9e1",
   "metadata": {},
   "outputs": [],
   "source": [
    "real_data=[]\n",
    "x=[]   #Y"
   ]
  },
  {
   "cell_type": "code",
   "execution_count": 4,
   "id": "98320cfd",
   "metadata": {},
   "outputs": [],
   "source": [
    "for i in os.listdir(path):\n",
    "\n",
    "    data = np.load(path + i)\n",
    "    real_data.append(data)\n",
    "    name = i.split('_')[-1]\n",
    "    name = name.split('.')[0]\n",
    "    \n",
    "    for j in range(data.shape[0]):\n",
    "        x.append(name)"
   ]
  },
  {
   "cell_type": "code",
   "execution_count": 5,
   "id": "2e26c3b9",
   "metadata": {},
   "outputs": [],
   "source": [
    "z = np.concatenate(real_data, axis =0)#x"
   ]
  },
  {
   "cell_type": "code",
   "execution_count": 6,
   "id": "1eaa2e5e",
   "metadata": {},
   "outputs": [
    {
     "data": {
      "text/plain": [
       "(2850976, 784)"
      ]
     },
     "execution_count": 6,
     "metadata": {},
     "output_type": "execute_result"
    }
   ],
   "source": [
    "z.shape"
   ]
  },
  {
   "cell_type": "code",
   "execution_count": 7,
   "id": "3a171735",
   "metadata": {},
   "outputs": [],
   "source": [
    "names = [\"alarm clock\", \"ant, bear\", \"bicycle\", \"bowtie\", \"calculator\",\n",
    "\"camel\", \"car\", \"cat\", \"coffee cup\", \"crocodile\", \"crown\", \"dragon\",\n",
    "\"duck\", \"elephant\", \"eye\", \"fan\", \"fish\", \"hand\", \"house\"] #y"
   ]
  },
  {
   "cell_type": "code",
   "execution_count": 8,
   "id": "47983624",
   "metadata": {},
   "outputs": [],
   "source": [
    "z,x = shuffle(z,x)"
   ]
  },
  {
   "cell_type": "code",
   "execution_count": 9,
   "id": "20e3c2e8",
   "metadata": {},
   "outputs": [
    {
     "data": {
      "text/plain": [
       "<matplotlib.image.AxesImage at 0x293a26d5400>"
      ]
     },
     "execution_count": 9,
     "metadata": {},
     "output_type": "execute_result"
    },
    {
     "data": {
      "image/png": "[encoded data removed]",
      "text/plain": [
       "<Figure size 432x288 with 1 Axes>"
      ]
     },
     "metadata": {
      "needs_background": "light"
     },
     "output_type": "display_data"
    }
   ],
   "source": [
    "plt.imshow(z[2].reshape(28,28))"
   ]
  },
  {
   "cell_type": "code",
   "execution_count": 10,
   "id": "a7c5d1ad",
   "metadata": {},
   "outputs": [],
   "source": [
    "x_train = z[:100000]\n",
    "y_train = x[:100000]\n",
    "x_val =  z[100000:105000]\n",
    "y_val =  x[100000:105000]\n",
    "x_test = z[105000:125000]\n",
    "y_test = x[105000:125000]"
   ]
  },
  {
   "cell_type": "code",
   "execution_count": 11,
   "id": "64ab1b3f",
   "metadata": {},
   "outputs": [],
   "source": [
    "\n",
    "scaler = StandardScaler()\n",
    "X_train= scaler.fit_transform(x_train)\n",
    "X_val = scaler.fit_transform(x_val)\n",
    "X_test = scaler.fit_transform(x_test)"
   ]
  },
  {
   "cell_type": "code",
   "execution_count": 12,
   "id": "38ae061d",
   "metadata": {},
   "outputs": [],
   "source": [
    "category_names = [\"alarm clock\", \"ant\", \"bear\", \"bicycle\", \"bowtie\", \"calculator\",\n",
    "\"camel\", \"car\", \"cat\", \"coffee cup\", \"crocodile\", \"crown\", \"dragon\",\n",
    "\"duck\", \"elephant\", \"eye\", \"fan\", \"fish\", \"hand\", \"house\"]\n",
    "\n",
    "f= {}\n",
    "for i in range(len(category_names)):\n",
    "    f[category_names[i]] = i"
   ]
  },
  {
   "cell_type": "code",
   "execution_count": 13,
   "id": "4f94ca00",
   "metadata": {},
   "outputs": [],
   "source": [
    "a= []\n",
    "y_train_new = np.array(a)\n",
    "y_test_new = np.array(a)\n",
    "y_val_new = np.array(a)\n",
    "\n",
    "\n",
    "for k in range(len(y_train)):\n",
    "    y_train_new = np.append(y_train_new, f[y_train[k]])\n",
    "\n",
    "for l in range(len(y_test)):\n",
    "    y_test_new = np.append(y_test_new, f[y_test[l]])\n",
    "    \n",
    "for z in range(len(y_val)):\n",
    "    y_val_new = np.append(y_val_new, f[y_val[z]])"
   ]
  },
  {
   "cell_type": "code",
   "execution_count": 14,
   "id": "43d3bc2f",
   "metadata": {},
   "outputs": [],
   "source": [
    "y_train_tf = to_categorical(y_train_new)\n",
    "y_test_tf = to_categorical(y_test_new)\n",
    "y_val_tf = to_categorical(y_val_new)"
   ]
  },
  {
   "cell_type": "code",
   "execution_count": 15,
   "id": "7c61503a",
   "metadata": {},
   "outputs": [],
   "source": [
    "x_train_normalized = tf.reshape(X_train, [100000, 28, 28, 1])\n",
    "x_validation_normalized = tf.reshape(X_val, [5000, 28, 28, 1])\n",
    "x_test_normalized = tf.reshape(X_test, [20000, 28, 28, 1])"
   ]
  },
  {
   "cell_type": "code",
   "execution_count": null,
   "id": "f39fa72e",
   "metadata": {},
   "outputs": [],
   "source": []
  },
  {
   "cell_type": "code",
   "execution_count": null,
   "id": "bbb27604",
   "metadata": {},
   "outputs": [],
   "source": []
  },
  {
   "cell_type": "code",
   "execution_count": 16,
   "id": "fff37386",
   "metadata": {},
   "outputs": [],
   "source": [
    "# X_train = tf.convert_to_tensor(x_train_normalized)\n",
    "# Y_train = tf.convert_to_tensor(y_train_new)\n",
    "# # X_val =tf.convert_to_tensor(x_validation_normalized)\n",
    "# Y_val = tf.convert_to_tensor(y_val_tf) \n",
    "# # X_test = tf.convert_to_tensor(x_test_normalized)\n",
    "# Y_test = tf.convert_to_tensor(y_test_tf)"
   ]
  },
  {
   "cell_type": "code",
   "execution_count": 17,
   "id": "73d4370c",
   "metadata": {},
   "outputs": [
    {
     "name": "stdout",
     "output_type": "stream",
     "text": [
      "Model: \"functional_1\"\n",
      "_________________________________________________________________\n",
      "Layer (type)                 Output Shape              Param #   \n",
      "=================================================================\n",
      "input_1 (InputLayer)         [(None, 28, 28, 1)]       0         \n",
      "_________________________________________________________________\n",
      "conv2d (Conv2D)              (None, 28, 28, 32)        320       \n",
      "_________________________________________________________________\n",
      "conv2d_1 (Conv2D)            (None, 28, 28, 32)        9248      \n",
      "_________________________________________________________________\n",
      "max_pooling2d (MaxPooling2D) (None, 14, 14, 32)        0         \n",
      "_________________________________________________________________\n",
      "batch_normalization (BatchNo (None, 14, 14, 32)        128       \n",
      "_________________________________________________________________\n",
      "conv2d_2 (Conv2D)            (None, 14, 14, 64)        18496     \n",
      "_________________________________________________________________\n",
      "conv2d_3 (Conv2D)            (None, 14, 14, 64)        36928     \n",
      "_________________________________________________________________\n",
      "max_pooling2d_1 (MaxPooling2 (None, 7, 7, 64)          0         \n",
      "_________________________________________________________________\n",
      "batch_normalization_1 (Batch (None, 7, 7, 64)          256       \n",
      "_________________________________________________________________\n",
      "conv2d_4 (Conv2D)            (None, 7, 7, 128)         73856     \n",
      "_________________________________________________________________\n",
      "conv2d_5 (Conv2D)            (None, 7, 7, 128)         147584    \n",
      "_________________________________________________________________\n",
      "max_pooling2d_2 (MaxPooling2 (None, 3, 3, 128)         0         \n",
      "_________________________________________________________________\n",
      "batch_normalization_2 (Batch (None, 3, 3, 128)         512       \n",
      "_________________________________________________________________\n",
      "conv2d_6 (Conv2D)            (None, 3, 3, 128)         147584    \n",
      "_________________________________________________________________\n",
      "conv2d_7 (Conv2D)            (None, 3, 3, 128)         147584    \n",
      "_________________________________________________________________\n",
      "max_pooling2d_3 (MaxPooling2 (None, 1, 1, 128)         0         \n",
      "_________________________________________________________________\n",
      "batch_normalization_3 (Batch (None, 1, 1, 128)         512       \n",
      "_________________________________________________________________\n",
      "flatten (Flatten)            (None, 128)               0         \n",
      "_________________________________________________________________\n",
      "dense (Dense)                (None, 128)               16512     \n",
      "_________________________________________________________________\n",
      "dropout (Dropout)            (None, 128)               0         \n",
      "_________________________________________________________________\n",
      "dense_1 (Dense)              (None, 20)                2580      \n",
      "=================================================================\n",
      "Total params: 602,100\n",
      "Trainable params: 601,396\n",
      "Non-trainable params: 704\n",
      "_________________________________________________________________\n"
     ]
    }
   ],
   "source": [
    "from keras.layers import Conv2D,MaxPool2D\n",
    "\n",
    "#np.random.seed(13) #To obtain consistent and reproducible data\n",
    "\n",
    "# This is deep convolutional NN with 6 convolutional layers, 3 MaxPool layers\n",
    "# and one dense layer. Run (on Colab with GPU) and see the difference in \n",
    "# performance compared to smaller convolutional model, and the dense model\n",
    "# First, Run this model as is, and examine the test set error rate\n",
    "\n",
    "from functools import partial\n",
    "from keras import regularizers\n",
    "\n",
    "activeList=['relu','elu', 'sigmoid','leaky_relu']\n",
    "act=activeList[0]\n",
    "initialList=['he_normal','he_uniform','glorot_normal','glorot_uniform',\\\n",
    "             'lecun_normal','lecun_uniform']\n",
    "init=initialList[0]\n",
    "optimList=['rmsprop','adam','nadam','sgd']\n",
    "optim=optimList[2]\n",
    "\n",
    "ConvLayer=partial(Conv2D,activation=act, \n",
    "                  kernel_initializer=init, \n",
    "                  kernel_regularizer=regularizers.l2(0.001),\n",
    "                  strides=1,\n",
    "                  padding='same')\n",
    "# First set of two Conv2D and one MaxPool2D layer\n",
    "# Run this first\n",
    "\n",
    "inputLayer=Input(shape=(28,28,1)) \n",
    "tmp=ConvLayer(filters=32,kernel_size=(3,3))(inputLayer)\n",
    "tmp=ConvLayer(filters=32,kernel_size=(3,3))(tmp)\n",
    "tmp=MaxPool2D((2,2))(tmp)\n",
    "tmp=BatchNormalization()(tmp)\n",
    "#tmp=Dropout(p)(tmp)\n",
    "# Second set of two Conv2D and one MaxPool2D layer\n",
    "# Run this Next and observe how much better the test error get, if any\n",
    "tmp=ConvLayer(filters=64,kernel_size=(3,3))(tmp)\n",
    "tmp=ConvLayer(filters=64,kernel_size=(3,3))(tmp)\n",
    "tmp=MaxPool2D((2,2))(tmp)\n",
    "tmp=BatchNormalization()(tmp)\n",
    "#tmp=Dropout(p)(tmp)# Third set of two Conv2D and one MaxPool2D layer\n",
    "# Run this Next and observe how much better the test error get, if any\n",
    "tmp=ConvLayer(filters=128,kernel_size=(3,3))(tmp)\n",
    "tmp=ConvLayer(filters=128,kernel_size=(3,3))(tmp)\n",
    "tmp=MaxPool2D((2,2))(tmp)\n",
    "tmp=BatchNormalization()(tmp)\n",
    "#tmp=Dropout(p)(tmp)\n",
    "# tmp=Flatten()(tmp)\n",
    "tmp=ConvLayer(filters=128,kernel_size=(3,3))(tmp)\n",
    "tmp=ConvLayer(filters=128,kernel_size=(3,3))(tmp)\n",
    "tmp=MaxPool2D((2,2))(tmp)\n",
    "tmp=BatchNormalization()(tmp)\n",
    "tmp=Flatten()(tmp)\n",
    "tmp=Dense(128,activation='relu',kernel_initializer='he_uniform')(tmp)\n",
    "tmp=Dropout(0.4)(tmp)\n",
    "# tmp=Dense(128,activation='relu',kernel_initializer='he_uniform')(tmp)\n",
    "# tmp=Dropout(0.4)(tmp)\n",
    "outputLayer=Dense(units=20,activation='softmax')(tmp)\n",
    "\n",
    "network=Model(inputLayer,outputLayer)\n",
    "\n",
    "network.compile(optimizer=optim,loss='categorical_crossentropy',metrics=['accuracy'])\n",
    "\n",
    "network.summary()\n"
   ]
  },
  {
   "cell_type": "code",
   "execution_count": 18,
   "id": "b9d569ce",
   "metadata": {},
   "outputs": [
    {
     "name": "stdout",
     "output_type": "stream",
     "text": [
      "Epoch 1/20\n",
      "782/782 [==============================] - 198s 254ms/step - loss: 2.1281 - accuracy: 0.7464 - val_loss: 1.7744 - val_accuracy: 0.7680\n",
      "Epoch 2/20\n",
      "782/782 [==============================] - 184s 235ms/step - loss: 1.3092 - accuracy: 0.8570 - val_loss: 1.1244 - val_accuracy: 0.8596\n",
      "Epoch 3/20\n",
      "782/782 [==============================] - 182s 233ms/step - loss: 0.9758 - accuracy: 0.8754 - val_loss: 1.2716 - val_accuracy: 0.7740\n",
      "Epoch 4/20\n",
      "782/782 [==============================] - 197s 252ms/step - loss: 0.8213 - accuracy: 0.8817 - val_loss: 1.0319 - val_accuracy: 0.8092\n",
      "Epoch 5/20\n",
      "782/782 [==============================] - 1317s 2s/step - loss: 0.7433 - accuracy: 0.8878 - val_loss: 0.8405 - val_accuracy: 0.8512\n",
      "Epoch 6/20\n",
      "782/782 [==============================] - 229s 293ms/step - loss: 0.7044 - accuracy: 0.8927 - val_loss: 0.7172 - val_accuracy: 0.8834\n",
      "Epoch 7/20\n",
      "782/782 [==============================] - 238s 305ms/step - loss: 0.6782 - accuracy: 0.8956 - val_loss: 0.8733 - val_accuracy: 0.8316\n",
      "Epoch 8/20\n",
      "782/782 [==============================] - 238s 304ms/step - loss: 0.6560 - accuracy: 0.8969 - val_loss: 0.9277 - val_accuracy: 0.8296\n",
      "Epoch 9/20\n",
      "782/782 [==============================] - 242s 310ms/step - loss: 0.6362 - accuracy: 0.9003 - val_loss: 0.7893 - val_accuracy: 0.8548\n",
      "Epoch 10/20\n",
      "782/782 [==============================] - 234s 300ms/step - loss: 0.6170 - accuracy: 0.9036 - val_loss: 0.7166 - val_accuracy: 0.8710\n",
      "Epoch 11/20\n",
      "782/782 [==============================] - 232s 297ms/step - loss: 0.6053 - accuracy: 0.9060 - val_loss: 0.8361 - val_accuracy: 0.8324\n",
      "Epoch 12/20\n",
      "782/782 [==============================] - 237s 303ms/step - loss: 0.5903 - accuracy: 0.9069 - val_loss: 0.6800 - val_accuracy: 0.8778\n",
      "Epoch 13/20\n",
      "782/782 [==============================] - 222s 284ms/step - loss: 0.5804 - accuracy: 0.9093 - val_loss: 0.6757 - val_accuracy: 0.8872\n",
      "Epoch 14/20\n",
      "782/782 [==============================] - 226s 289ms/step - loss: 0.5710 - accuracy: 0.9103 - val_loss: 0.6586 - val_accuracy: 0.8854\n",
      "Epoch 15/20\n",
      "782/782 [==============================] - 190s 242ms/step - loss: 0.5605 - accuracy: 0.9117 - val_loss: 0.7023 - val_accuracy: 0.8712\n",
      "Epoch 16/20\n",
      "782/782 [==============================] - 184s 235ms/step - loss: 0.5514 - accuracy: 0.9127 - val_loss: 0.6755 - val_accuracy: 0.8816\n",
      "Epoch 17/20\n",
      "782/782 [==============================] - 182s 232ms/step - loss: 0.5455 - accuracy: 0.9133 - val_loss: 0.6431 - val_accuracy: 0.8866\n",
      "Epoch 18/20\n",
      "782/782 [==============================] - 171s 218ms/step - loss: 0.5402 - accuracy: 0.9146 - val_loss: 0.6625 - val_accuracy: 0.8864\n",
      "Epoch 19/20\n",
      "782/782 [==============================] - 168s 214ms/step - loss: 0.5318 - accuracy: 0.9156 - val_loss: 0.6409 - val_accuracy: 0.8918\n",
      "Epoch 20/20\n",
      "782/782 [==============================] - 168s 215ms/step - loss: 0.5324 - accuracy: 0.9154 - val_loss: 0.6670 - val_accuracy: 0.8798\n",
      "625/625 [==============================] - 9s 14ms/step - loss: 0.6719 - accuracy: 0.8791\n",
      "test_acc: 0.879\n"
     ]
    }
   ],
   "source": [
    "earlyStoppingCB=keras.callbacks.EarlyStopping(patience=5,restore_best_weights=True)\n",
    "history=network.fit(x_train_normalized, y_train_tf, validation_data=(x_validation_normalized,y_val_tf),callbacks=[earlyStoppingCB],epochs=20,batch_size=128)\n",
    "test_loss, test_acc=network.evaluate(x_test_normalized, y_test_tf)\n",
    "print(f\"test_acc: {test_acc:5.3}\")"
   ]
  },
  {
   "cell_type": "code",
   "execution_count": null,
   "id": "d00afbe5",
   "metadata": {},
   "outputs": [],
   "source": []
  }
 ],
 "metadata": {
  "kernelspec": {
   "display_name": "Python 3",
   "language": "python",
   "name": "python3"
  },
  "language_info": {
   "codemirror_mode": {
    "name": "ipython",
    "version": 3
   },
   "file_extension": ".py",
   "mimetype": "text/x-python",
   "name": "python",
   "nbconvert_exporter": "python",
   "pygments_lexer": "ipython3",
   "version": "3.8.8"
  }
 },
 "nbformat": 4,
 "nbformat_minor": 5
}
