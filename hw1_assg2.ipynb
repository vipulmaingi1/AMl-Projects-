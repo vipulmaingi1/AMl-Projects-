{
 "cells": [
  {
   "cell_type": "code",
   "execution_count": 12,
   "id": "f6bcfc5b",
   "metadata": {},
   "outputs": [],
   "source": [
    "import tensorflow as tf\n",
    "import pandas as pd\n",
    "import numpy as np\n",
    "import matplotlib.pyplot as plt\n",
    "import seaborn as sns"
   ]
  },
  {
   "cell_type": "code",
   "execution_count": 13,
   "id": "7671b461",
   "metadata": {},
   "outputs": [
    {
     "name": "stdout",
     "output_type": "stream",
     "text": [
      "X(x, y) = (x + y)^2 + (x + y)^3 + 2x + 3y + 1\r\n"
     ]
    }
   ],
   "source": [
    "tf.print(\"X(x, y) = (x + y)^2 + (x + y)^3 + 2x + 3y + 1\")"
   ]
  },
  {
   "cell_type": "code",
   "execution_count": 14,
   "id": "5088e205",
   "metadata": {},
   "outputs": [],
   "source": [
    "x,y = tf.Variable(-1.),tf.Variable(2.)\n",
    "constant = tf.constant(1.)"
   ]
  },
  {
   "cell_type": "code",
   "execution_count": 15,
   "id": "c1d0b329",
   "metadata": {},
   "outputs": [],
   "source": [
    "with tf.GradientTape(persistent = True) as t:\n",
    "    F1=x+y\n",
    "    F2=F1**2\n",
    "    F3=F1**3\n",
    "    F4=F2+F3\n",
    "    F5=2*x\n",
    "    F6=3*y\n",
    "    F7=F5+F6\n",
    "    F=F4+F7+constant\n",
    "    \n",
    "g=t.gradient(F,[x,y])"
   ]
  },
  {
   "cell_type": "code",
   "execution_count": 17,
   "id": "05244489",
   "metadata": {},
   "outputs": [
    {
     "name": "stdout",
     "output_type": "stream",
     "text": [
      "function values\n",
      "\tx=  -1\n",
      "\ty   2\n",
      "\tf1= 1.0\n",
      " \tf2= 1.0\n",
      " \tf3= 1.0\n",
      " \tf4= 2.0\n",
      " \tf5=-2.0\n",
      " \tf6= 6.0\n",
      " \tf7= 4.0\n",
      " \tf8= 7.0\n",
      "\n",
      "partial derivatives\n",
      "\tpartial f/partial x = 7.0\n",
      "\tpartial f/partial y=8.0\n",
      "\tpartial f/partial f9=5.00\n",
      " \tpartial f/partial f10=1.00\n",
      " \tpartial f/partial f11=1.00\n",
      " \tpartial f/partial f12=1.00\n",
      " \tpartial f/partial f13=1.00\n",
      " \tpartial f/partial f14=1.00\n",
      " \tpartial f/partial f15=1.00\n",
      " \tpartial f/partial f16=1.00\n",
      "\n",
      "gradient\n",
      "g[0]:  7.0 g[1]:  8.0\n"
     ]
    }
   ],
   "source": [
    "a=0\n",
    "print(\"function values\")\n",
    "print(f\"\\tx={x.numpy():4.0f}\\n\\ty{y.numpy():4.0f}\")\n",
    "tf.print(*(f\"\\tf{(a:=a+1)}={k:4.3}\\n\" for k in [F1,F2,F3,F4,F5,F6,F7,F]))\n",
    "print(\"partial derivatives\")\n",
    "tf.print(f\"\\tpartial f/partial x = {g[0]}\\n\\tpartial f/partial y={g[1]}\")\n",
    "tf.print(*(f\"\\tpartial f/partial f{(a:=a+1)}={t.gradient(F,[k])[0].numpy():3.2f}\\n\"for k in [F1,F2,F3,F4,F5,F6,F7,F]))\n",
    "print(\"gradient\")\n",
    "tf.print(*(f\"g[{i}]: {g[i]:4.3}\" for i in range(len(g))))"
   ]
  }
 ],
 "metadata": {
  "kernelspec": {
   "display_name": "Python 3",
   "language": "python",
   "name": "python3"
  },
  "language_info": {
   "codemirror_mode": {
    "name": "ipython",
    "version": 3
   },
   "file_extension": ".py",
   "mimetype": "text/x-python",
   "name": "python",
   "nbconvert_exporter": "python",
   "pygments_lexer": "ipython3",
   "version": "3.8.8"
  }
 },
 "nbformat": 4,
 "nbformat_minor": 5
}
